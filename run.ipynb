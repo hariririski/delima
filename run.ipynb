{
 "cells": [
  {
   "cell_type": "code",
   "execution_count": null,
   "id": "e6fc6b26",
   "metadata": {},
   "outputs": [
    {
     "name": "stdout",
     "output_type": "stream",
     "text": [
      "\u001b[0m\n",
      "\u001b[34m\u001b[1m  You can now view your Streamlit app in your browser.\u001b[0m\n",
      "\u001b[0m\n",
      "\u001b[34m  Local URL: \u001b[0m\u001b[1mhttp://localhost:8501\u001b[0m\n",
      "\u001b[34m  Network URL: \u001b[0m\u001b[1mhttp://192.168.1.29:8501\u001b[0m\n",
      "\u001b[0m\n",
      "2025-05-13 16:06:58.051 Examining the path of torch.classes raised: Tried to instantiate class '__path__._path', but it does not exist! Ensure that it is registered via torch::class_\n",
      "2025-05-13 16:07:21.092 Uncaught app exception\n",
      "Traceback (most recent call last):\n",
      "  File \"/opt/anaconda3/lib/python3.12/site-packages/streamlit/runtime/scriptrunner/script_runner.py\", line 542, in _run_script\n",
      "    exec(code, module.__dict__)\n",
      "  File \"/Users/hariririski/S2KecerdasanBuatan/2. Semester 2/MMAI1010 Visi Komputer/4_Final/Upload/app.py\", line 151, in <module>\n",
      "    q0 = eval_q_gray(orig8)\n",
      "         ^^^^^^^^^^^^^^^^^^\n",
      "  File \"/Users/hariririski/S2KecerdasanBuatan/2. Semester 2/MMAI1010 Visi Komputer/4_Final/Upload/app.py\", line 25, in eval_q_gray\n",
      "    return {\"niqe\": round(niqe(t).item(), 2), \"piqe\": round(piqe(t).item(), 2)}\n",
      "                          ^^^^^^^\n",
      "  File \"/opt/anaconda3/lib/python3.12/site-packages/torch/nn/modules/module.py\", line 1736, in _wrapped_call_impl\n",
      "    return self._call_impl(*args, **kwargs)\n",
      "           ^^^^^^^^^^^^^^^^^^^^^^^^^^^^^^^^\n",
      "  File \"/opt/anaconda3/lib/python3.12/site-packages/torch/nn/modules/module.py\", line 1747, in _call_impl\n",
      "    return forward_call(*args, **kwargs)\n",
      "           ^^^^^^^^^^^^^^^^^^^^^^^^^^^^^\n",
      "  File \"/opt/anaconda3/lib/python3.12/site-packages/pyiqa/models/inference_model.py\", line 100, in forward\n",
      "    self.is_valid_input(target)\n",
      "  File \"/opt/anaconda3/lib/python3.12/site-packages/pyiqa/models/inference_model.py\", line 75, in is_valid_input\n",
      "    assert x.dim() == 4, 'Input must be 4D tensor (B, C, H, W)'\n",
      "AssertionError: Input must be 4D tensor (B, C, H, W)\n",
      "2025-05-13 16:07:21.218 Examining the path of torch.classes raised: Tried to instantiate class '__path__._path', but it does not exist! Ensure that it is registered via torch::class_\n"
     ]
    }
   ],
   "source": [
    "!streamlit run app.py"
   ]
  },
  {
   "cell_type": "code",
   "execution_count": 20,
   "id": "94f0cbaf",
   "metadata": {},
   "outputs": [
    {
     "name": "stdout",
     "output_type": "stream",
     "text": [
      "\n",
      "📊 Grayscale - Pipeline P1\n",
      "no_082.tiff     | NIQE: 9.99 → 7.64 | PIQE: 94.98 → 14.47 |  | Avg Score: 11.05\n",
      "minor_075.tiff  | NIQE: 9.88 → 7.98 | PIQE: 58.74 → 15.72 |  | Avg Score: 11.85\n",
      "major_069.tiff  | NIQE: 9.99 → 7.54 | PIQE: 65.65 → 15.29 |  | Avg Score: 11.41\n",
      "\n",
      "📊 RGB - Pipeline P10\n",
      "no_064.tiff     | NIQE: 11.98 → 6.69 | PIQE: 81.63 → 21.21 | CF: 87.78 → 82.92 | Avg Score: 13.12\n",
      "minor_001.tiff  | NIQE: 11.32 → 6.39 | PIQE: 77.28 → 19.96 | CF: 99.17 → 99.85 | Avg Score: 12.17\n",
      "major_060.tiff  | NIQE: 11.32 → 6.39 | PIQE: 77.28 → 19.96 | CF: 99.17 → 99.85 | Avg Score: 12.17\n"
     ]
    }
   ],
   "source": [
    "import pandas as pd\n",
    "\n",
    "# ─────────── 1. KONFIGURASI ───────────\n",
    "csv_gray = \"out/final_P1.csv\"\n",
    "csv_rgb  = \"out_rgb/final_P10.csv\"\n",
    "\n",
    "# ─────────── 2. LOAD DATASET ───────────\n",
    "df_gray = pd.read_csv(csv_gray)\n",
    "df_rgb  = pd.read_csv(csv_rgb)\n",
    "\n",
    "# Tambah skor gabungan: semakin kecil lebih baik\n",
    "df_gray[\"avg_score\"] = (df_gray[\"fin_niqe\"] + df_gray[\"fin_piqe\"]) / 2\n",
    "df_rgb[\"avg_score\"] = (df_rgb[\"fin_niqe\"] + df_rgb[\"fin_piqe\"]) / 2 - 0.01 * df_rgb[\"fin_colorfulness\"]\n",
    "\n",
    "# ─────────── 3. FUNGSI PILIH TERBAIK ───────────\n",
    "def best_per_class(df, prefix_list):\n",
    "    result = []\n",
    "    for prefix in prefix_list:\n",
    "        sub = df[df[\"filename\"].str.startswith(prefix)]\n",
    "        best = sub.nsmallest(1, \"avg_score\")\n",
    "        result.append(best)\n",
    "    return pd.concat(result)\n",
    "\n",
    "# ─────────── 4. PILIH TERBAIK PER KELAS ───────────\n",
    "classes = [\"no_\", \"minor_\", \"major_\"]\n",
    "best_gray = best_per_class(df_gray, classes).copy()\n",
    "best_rgb  = best_per_class(df_rgb,  classes).copy()\n",
    "\n",
    "# ─────────── 5. CETAK HASIL ───────────\n",
    "def show_table(df, label):\n",
    "    print(f\"\\n📊 {label} - Pipeline {df['pipeline'].iloc[0]}\")\n",
    "    for _, row in df.iterrows():\n",
    "        print(f\"{row['filename']:15} | NIQE: {row['orig_niqe']:.2f} → {row['fin_niqe']:.2f} | \"\n",
    "              f\"PIQE: {row['orig_piqe']:.2f} → {row['fin_piqe']:.2f} | \"\n",
    "              f\"{'CF: '+str(round(row['orig_colorfulness'],2))+' → '+str(round(row['fin_colorfulness'],2)) if 'fin_colorfulness' in row else ''} \"\n",
    "              f\"| Avg Score: {row['avg_score']:.2f}\")\n",
    "\n",
    "show_table(best_gray, \"Grayscale\")\n",
    "show_table(best_rgb, \"RGB\")"
   ]
  }
 ],
 "metadata": {
  "kernelspec": {
   "display_name": "base",
   "language": "python",
   "name": "python3"
  },
  "language_info": {
   "codemirror_mode": {
    "name": "ipython",
    "version": 3
   },
   "file_extension": ".py",
   "mimetype": "text/x-python",
   "name": "python",
   "nbconvert_exporter": "python",
   "pygments_lexer": "ipython3",
   "version": "3.12.2"
  }
 },
 "nbformat": 4,
 "nbformat_minor": 5
}
